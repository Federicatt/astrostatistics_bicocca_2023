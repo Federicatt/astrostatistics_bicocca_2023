{
 "cells": [
  {
   "cell_type": "markdown",
   "metadata": {},
   "source": [
    "# Can a computer learn if we are going to detect gravitational waves?"
   ]
  },
  {
   "cell_type": "markdown",
   "metadata": {},
   "source": [
    "**The goal here is to machine-learn the LIGO detectability: can we *predict* if a gravitational-wave source will be detected?**  \n",
    "\n",
    "[This dataset](https://github.com/dgerosa/pdetclassifier/releases/download/v0.2/sample_2e7_design_precessing_higherordermodes_3detectors.h5) contains simulated gravitational-wave signals from merging black holes (careful the file size is >1 GB). You can read this data format with `h5py`.\n",
    "\n",
    "In particular, each source has the following features:\n",
    "- `mtot`: the total mass of the binary\n",
    "- `q`: the mass ratio\n",
    "- `chi1x`, `chi1y`, `chi1z`, `chi2x`, `chi2y`, `chi2z`: the components of the black-hole spins in a suitable reference frame.\n",
    "- `ra`, `dec`: the location of the source in the sky\n",
    "- `iota`: the inclination of the orbital plane'\n",
    "- `psi`: the polarization angle (gravitational waves have two polarization states much like light)\n",
    "- `z`: the redshift\n",
    "\n",
    "The detectability is defined using the `snr` (signal-to-noise ratio) computed with a state-of-the-art model of the LIGO/Virgo detector network. Some (many?) of you will have studied this in Sesana's gravitational-wave course; [see here](https://arxiv.org/abs/1908.11170) for a nice write-up. All you need to know now is that we threshold the `snr` values and assume that LIGO will (not) see a source if `snr`>12 (`snr`<12). The resulting 0-1 labels are reported in the `det` attribute in the dataset.\n",
    "\n",
    "Today's task is to train a classifier (you decide which one!) and separate sources that are detectables from those that aren't. \n",
    "\n",
    "Be creative! This is a challenge! Let's see who gets the  higher completeness and/or the smaller contamination (on a validation set, of course! Careful with overfitting here!).\n",
    "\n",
    "*Tips*:\n",
    "- You can downsample the data for debugging purposes\n",
    "- You can also use only some of the features. By experience, the most important ones are those involving masses and redshift."
   ]
  },
  {
   "cell_type": "code",
   "execution_count": 56,
   "metadata": {},
   "outputs": [],
   "source": [
    "import numpy as np\n",
    "import h5py\n",
    "import matplotlib.pyplot as plt\n",
    "\n",
    "from sklearn.metrics import accuracy_score, confusion_matrix\n",
    "from sklearn.metrics import roc_curve\n",
    "from sklearn.metrics import precision_recall_curve\n",
    "\n",
    "from sklearn.ensemble import RandomForestClassifier\n",
    "from sklearn.ensemble import RandomForestRegressor\n",
    "\n",
    "from sklearn.tree import DecisionTreeClassifier\n",
    "\n",
    "from sklearn.preprocessing import StandardScaler\n",
    "\n",
    "from sklearn.model_selection import train_test_split\n",
    "from sklearn.model_selection import cross_val_predict\n",
    "from sklearn.model_selection import KFold\n",
    "\n",
    "from astroML.datasets import fetch_sdss_specgals\n",
    "from astroML.utils.decorators import pickle_results\n",
    "from astroML.utils import completeness_contamination\n",
    "\n",
    "from tabulate import tabulate\n",
    "\n",
    "plt.rcParams['figure.figsize'] = [8, 8]\n",
    "plt.rcParams['font.size'] = 15"
   ]
  },
  {
   "cell_type": "code",
   "execution_count": 2,
   "metadata": {},
   "outputs": [
    {
     "data": {
      "text/plain": [
       "<KeysViewHDF5 ['chi1x', 'chi1y', 'chi1z', 'chi2x', 'chi2y', 'chi2z', 'dec', 'det', 'iota', 'mtot', 'psi', 'q', 'ra', 'snr', 'z']>"
      ]
     },
     "execution_count": 2,
     "metadata": {},
     "output_type": "execute_result"
    }
   ],
   "source": [
    "data = h5py.File('sample_2e7_design_precessing_higherordermodes_3detectors.h5', 'r')\n",
    "data.keys()\n",
    "#print(len(chi1x))"
   ]
  },
  {
   "cell_type": "code",
   "execution_count": 3,
   "metadata": {},
   "outputs": [
    {
     "name": "stdout",
     "output_type": "stream",
     "text": [
      "[0 0 0 ... 0 0 0]\n"
     ]
    }
   ],
   "source": [
    "#total mass of binary\n",
    "m_tot = data['mtot'][:]\n",
    "\n",
    "#mass ratio\n",
    "q = data['q'][:]\n",
    "\n",
    "#inclinaton angle\n",
    "iota = data['iota'][:]\n",
    "\n",
    "#polarization angle\n",
    "psi = data['psi'][:]\n",
    "\n",
    "#redshift\n",
    "z = data['z'][:]\n",
    "\n",
    "#components of the BH spins\n",
    "chi1x = data['chi1x'][:]\n",
    "chi1y = data['chi1y'][:]\n",
    "chi1z = data['chi1z'][:]\n",
    "chi2x = data['chi2x'][:]\n",
    "chi2y = data['chi2y'][:]\n",
    "chi2z = data['chi2z'][:]\n",
    "\n",
    "#coordinates\n",
    "ra = data['ra'][:]\n",
    "dec = data['dec'][:]\n",
    "\n",
    "#snr\n",
    "snr = data['snr'][:]\n",
    "\n",
    "det = data['det'][:]\n",
    "print(det)"
   ]
  },
  {
   "cell_type": "code",
   "execution_count": 4,
   "metadata": {},
   "outputs": [],
   "source": [
    "#downsize the dataset\n",
    "N = int(1e5)\n",
    "X = [] \n",
    "\n",
    "for i in ['chi1x', 'chi1y', 'chi1z', 'chi2x', 'chi2y', 'chi2z', 'dec', 'iota', 'mtot', 'psi', 'q', 'ra', 'z']:\n",
    "    X.append(data[i][:N])\n",
    "    \n",
    "X = np.array(X).T\n",
    "det = det[:N]   \n",
    "det = np.array(det)\n",
    "\n",
    "xtrain, xtest, ytrain, ytest = train_test_split(X, det, test_size=0.3, random_state=42)"
   ]
  },
  {
   "cell_type": "code",
   "execution_count": 5,
   "metadata": {},
   "outputs": [],
   "source": [
    "#definition of the errors\n",
    "def rms_error(x, y, classif):\n",
    "    return np.sqrt(np.sum((y - classif.predict(x))**2))/len(y)\n",
    "\n",
    "def errors_cv(x, y, classif):\n",
    "    err_cval = []\n",
    "    err_train = []\n",
    "    \n",
    "    for t_i, c_i in kf.split(x): #kf stands for KFolds\n",
    "        x_train, x_cv = x[t_i], x[c_i]\n",
    "        y_train, y_cv = y[t_i], y[c_i]\n",
    "        \n",
    "        classif.fit(x_train, y_train)\n",
    "        err_train.append(rms_error(x_train, y_train, classif))\n",
    "        err_cval.append(rms_error(x_cv, y_cv, classif))\n",
    "        \n",
    "    return np.median(err_train), np.median(err_cval)"
   ]
  },
  {
   "cell_type": "markdown",
   "metadata": {},
   "source": [
    "## Classification with Decision Tree"
   ]
  },
  {
   "cell_type": "code",
   "execution_count": 47,
   "metadata": {},
   "outputs": [],
   "source": [
    "#definition of the K-Foldings\n",
    "kf = KFold(n_splits=5, shuffle=True, random_state=1)\n",
    "\n",
    "#maximum depth\n",
    "max_dep = np.arange(1,20)\n",
    "\n",
    "err_t_dt = []\n",
    "err_val_dt = []\n",
    "\n",
    "#Decision Tree\n",
    "for i in max_dep:\n",
    "    classif = DecisionTreeClassifier(random_state=1, max_depth=i)\n",
    "    error_train_dt, error_validation_dt = errors_cv(xtrain, ytrain, classif)\n",
    "    \n",
    "    err_t_dt.append(error_train_dt)\n",
    "    err_val_dt.append(error_validation_dt)"
   ]
  },
  {
   "cell_type": "code",
   "execution_count": 50,
   "metadata": {},
   "outputs": [
    {
     "data": {
      "image/png": "[encoded data removed]",
      "text/plain": [
       "<Figure size 576x576 with 1 Axes>"
      ]
     },
     "metadata": {
      "needs_background": "light"
     },
     "output_type": "display_data"
    }
   ],
   "source": [
    "plt.plot(max_dep, err_t_dt, color='black', label='Training Set')\n",
    "plt.scatter(max_dep, err_t_dt, color='black')\n",
    "plt.plot(max_dep, err_val_dt, color='b', label='Cross validation')\n",
    "plt.scatter(max_dep, err_val_dt, color='b')\n",
    "plt.xlabel('Maximum Depth')\n",
    "plt.ylabel('Error')\n",
    "plt.legend()\n",
    "plt.show()"
   ]
  },
  {
   "cell_type": "code",
   "execution_count": 51,
   "metadata": {},
   "outputs": [
    {
     "name": "stdout",
     "output_type": "stream",
     "text": [
      "The best maximum depth is: 8\n"
     ]
    }
   ],
   "source": [
    "best_max_dep = max_dep[err_val_dt == min(err_val_dt)][0]\n",
    "print('The best maximum depth is:', best_max_dep)"
   ]
  },
  {
   "cell_type": "markdown",
   "metadata": {},
   "source": [
    "Now we find the accuracy, confusion matrix, completeness and contamination."
   ]
  },
  {
   "cell_type": "code",
   "execution_count": 53,
   "metadata": {},
   "outputs": [],
   "source": [
    "dt = DecisionTreeClassifier(random_state=1, max_depth=best_max_dep)\n",
    "dt.fit(xtrain, ytrain)\n",
    "\n",
    "xtrain_pred_dt = dt.predict(xtrain) \n",
    "xtest_pred_dt = dt.predict(xtest)"
   ]
  },
  {
   "cell_type": "code",
   "execution_count": 54,
   "metadata": {},
   "outputs": [
    {
     "name": "stdout",
     "output_type": "stream",
     "text": [
      "The accuracy of the training set is: 0.9653285714285714\n",
      "The accuracy of the test set is: 0.9578\n",
      "\n",
      "The confusion matrix of the training set is:\n",
      " [[58877  1063]\n",
      " [ 1364  8696]]\n",
      "\n",
      "The confusion matrix of the test set is:\n",
      " [[25136   542]\n",
      " [  724  3598]]\n",
      "\n",
      "The completeness for the test is: 0.8324849606663581\n",
      "The contamination for the test is: 0.13091787439613525\n",
      "\n",
      "The completeness for the train is: 0.8644135188866799\n",
      "The contamination for the train is: 0.10892509478430167\n"
     ]
    }
   ],
   "source": [
    "#accuracy\n",
    "accuracy_train_dt = accuracy_score(ytrain, xtrain_pred_dt)\n",
    "accuracy_test_dt = accuracy_score(ytest, xtest_pred_dt)\n",
    "\n",
    "print('The accuracy of the training set is:', accuracy_train_dt)\n",
    "print('The accuracy of the test set is:', accuracy_test_dt)\n",
    "\n",
    "#confusion matrix\n",
    "confusion_train_dt = confusion_matrix(ytrain, xtrain_pred_dt)\n",
    "confusion_test_dt = confusion_matrix(ytest, xtest_pred_dt)\n",
    "\n",
    "print('\\nThe confusion matrix of the training set is:\\n', confusion_train_dt)\n",
    "print('\\nThe confusion matrix of the test set is:\\n', confusion_test_dt)\n",
    "\n",
    "completeness_test_dt, contamination_test_dt = completeness_contamination(xtest_pred_dt, ytest)\n",
    "print('\\nThe completeness for the test is:', completeness_test_dt)\n",
    "print('The contamination for the test is:', contamination_test_dt)\n",
    "\n",
    "completeness_train_dt, contamination_train_dt = completeness_contamination(xtrain_pred_dt, ytrain)\n",
    "print('\\nThe completeness for the train is:', completeness_train_dt)\n",
    "print('The contamination for the train is:', contamination_train_dt)"
   ]
  },
  {
   "cell_type": "markdown",
   "metadata": {},
   "source": [
    "## Classification with Random Forest"
   ]
  },
  {
   "cell_type": "code",
   "execution_count": 6,
   "metadata": {},
   "outputs": [
    {
     "name": "stdout",
     "output_type": "stream",
     "text": [
      "[0.00012111303541295122, 0.0001439688883624741, 0.00010101525445522108, 0.0001184508853698357, 9.44911182523068e-05, 9.780759955449395e-05, 8.563984863058427e-05, 9.616365727025899e-05, 7.57614408414158e-05, 8.375742428256125e-05, 6.681531047810609e-05, 8.375742428256125e-05, 6.185895741317419e-05, 6.43848442047141e-05, 6.681531047810609e-05]\n",
      "15\n"
     ]
    }
   ],
   "source": [
    "#definition of the K-Foldings\n",
    "kf = KFold(n_splits=5, shuffle=True, random_state=1)\n",
    "\n",
    "N = np.linspace(15, 30, 15, dtype=int)\n",
    "\n",
    "err_t = []\n",
    "err_val = []\n",
    "\n",
    "#Random Forest\n",
    "for i in N:\n",
    "    classif = RandomForestClassifier(i)\n",
    "    error_train, error_validation = errors_cv(xtrain, ytrain, classif)\n",
    "    \n",
    "    err_t.append(error_train)\n",
    "    err_val.append(error_validation)\n",
    "    \n",
    "print(err_t)    \n",
    "print(len(err_t))"
   ]
  },
  {
   "cell_type": "code",
   "execution_count": 7,
   "metadata": {},
   "outputs": [
    {
     "data": {
      "text/plain": [
       "[]"
      ]
     },
     "execution_count": 7,
     "metadata": {},
     "output_type": "execute_result"
    },
    {
     "data": {
      "image/png": "[encoded data removed]",
      "text/plain": [
       "<Figure size 576x576 with 1 Axes>"
      ]
     },
     "metadata": {
      "needs_background": "light"
     },
     "output_type": "display_data"
    }
   ],
   "source": [
    "#plot\n",
    "plt.plot(N, err_t, color='black', lw=1.2, label='Training Set')  \n",
    "plt.scatter(N, err_t, color='black')\n",
    "plt.plot(N, err_val, color='b', lw=1.2, label = 'Cross Validation')\n",
    "plt.scatter(N, err_val, color='b')\n",
    "plt.xlabel('Number of Trees')\n",
    "plt.ylabel('RMS error')\n",
    "plt.xticks(N)\n",
    "plt.legend()\n",
    "plt.plot()"
   ]
  },
  {
   "cell_type": "markdown",
   "metadata": {},
   "source": [
    "Now we want to find the best number of trees in order to do a better classification of the data.\n"
   ]
  },
  {
   "cell_type": "code",
   "execution_count": 9,
   "metadata": {},
   "outputs": [
    {
     "name": "stdout",
     "output_type": "stream",
     "text": [
      "The best number of trees is: 21\n"
     ]
    }
   ],
   "source": [
    "best_tree = N[err_val == min(err_val)][0]\n",
    "print('The best number of trees is:', best_tree)"
   ]
  },
  {
   "cell_type": "code",
   "execution_count": 10,
   "metadata": {},
   "outputs": [],
   "source": [
    "ranfor = RandomForestClassifier(best_tree, random_state=10)\n",
    "ranfor.fit(xtrain, ytrain)\n",
    "\n",
    "xtrain_pred = ranfor.predict(xtrain) \n",
    "xtest_pred = ranfor.predict(xtest)"
   ]
  },
  {
   "cell_type": "markdown",
   "metadata": {},
   "source": [
    "Now for the Random Forest Classifier we find the accuracy, the confusion matrix, the completeness and the contamination."
   ]
  },
  {
   "cell_type": "code",
   "execution_count": 15,
   "metadata": {},
   "outputs": [
    {
     "name": "stdout",
     "output_type": "stream",
     "text": [
      "The accuracy of the training set is: 0.9996714285714285\n",
      "The accuracy of the test set is: 0.9641666666666666\n",
      "\n",
      "The confusion matrix of the training set is:\n",
      " [[59932     8]\n",
      " [   15 10045]]\n",
      "\n",
      "The confusion matrix of the test set is:\n",
      " [[25279   399]\n",
      " [  676  3646]]\n",
      "\n",
      "The completeness for the test is: 0.8435909301249421\n",
      "The contamination for the test is: 0.09864029666254635\n",
      "\n",
      "The completeness for the train is: 0.9985089463220675\n",
      "The contamination for the train is: 0.0007957823535263105\n"
     ]
    }
   ],
   "source": [
    "#accuracy\n",
    "accuracy_train = accuracy_score(ytrain, xtrain_pred)\n",
    "accuracy_test = accuracy_score(ytest, xtest_pred)\n",
    "\n",
    "print('The accuracy of the training set is:', accuracy_train)\n",
    "print('The accuracy of the test set is:', accuracy_test)\n",
    "\n",
    "#confusion matrix\n",
    "confusion_train = confusion_matrix(ytrain, xtrain_pred)\n",
    "confusion_test = confusion_matrix(ytest, xtest_pred)\n",
    "\n",
    "print('\\nThe confusion matrix of the training set is:\\n', confusion_train)\n",
    "print('\\nThe confusion matrix of the test set is:\\n', confusion_test)\n",
    "\n",
    "completeness_test, contamination_test = completeness_contamination(xtest_pred, ytest)\n",
    "print('\\nThe completeness for the test is:', completeness_test)\n",
    "print('The contamination for the test is:', contamination_test)\n",
    "\n",
    "completeness_train, contamination_train = completeness_contamination(xtrain_pred, ytrain)\n",
    "print('\\nThe completeness for the train is:', completeness_train)\n",
    "print('The contamination for the train is:', contamination_train)"
   ]
  },
  {
   "cell_type": "markdown",
   "metadata": {},
   "source": [
    "## Comparison between the two classifications"
   ]
  },
  {
   "cell_type": "code",
   "execution_count": 55,
   "metadata": {},
   "outputs": [
    {
     "name": "stdout",
     "output_type": "stream",
     "text": [
      "+---------------+---------------+--------------+---------------+--------------+\n",
      "|  Classifiers  | AccuracyTrain | AccuracyTest | Complet_Train | Contam_Train |\n",
      "+---------------+---------------+--------------+---------------+--------------+\n",
      "| Decision Tree |     0.965     |    0.958     |     0.864     |    0.131     |\n",
      "| Random Forest |      1.0      |    0.964     |     0.999     |    0.099     |\n",
      "+---------------+---------------+--------------+---------------+--------------+\n"
     ]
    }
   ],
   "source": [
    "classifiers = np.array(['Decision Tree', 'Random Forest'])\n",
    "\n",
    "\n",
    "#accuracy\n",
    "accuracy_train = np.array([round(float(accuracy_train_dt),3), round(float(accuracy_train),3)])\n",
    "accuracy_test = np.array([round(float(accuracy_test_dt),3), round(float(accuracy_test),3)])\n",
    "\n",
    "completeness_test = np.array([round(float(completeness_test_dt),3), round(float(completeness_test),3)])\n",
    "completeness_train = np.array([round(float(completeness_train_dt),3), round(float(completeness_train),3)])\n",
    "contamination_test = np.array([round(float(contamination_test_dt),3), round(float(contamination_test),3)])\n",
    "contamination_train = np.array([round(float(contamination_train_dt),3), round(float(contamination_train),3)])\n",
    "\n",
    "columns = ['Classifiers', 'AccuracyTrain', 'AccuracyTest', 'Complet_Train', 'Contam_Train']\n",
    "lines = np.array([classifiers, accuracy_train, accuracy_test, \n",
    "                  completeness_train, contamination_test]).T\n",
    "\n",
    "print(tabulate(lines, headers=columns, tablefmt='pretty'))"
   ]
  },
  {
   "cell_type": "markdown",
   "metadata": {},
   "source": [
    "By observing the results we can say that the best classifier is the Random Forest. We can verify this through a ROC curve."
   ]
  },
  {
   "cell_type": "code",
   "execution_count": 60,
   "metadata": {},
   "outputs": [
    {
     "data": {
      "image/png": "[encoded data removed]",
      "text/plain": [
       "<Figure size 576x576 with 1 Axes>"
      ]
     },
     "metadata": {
      "needs_background": "light"
     },
     "output_type": "display_data"
    }
   ],
   "source": [
    "#Decision Tree\n",
    "y_prob_dt = dt.predict_proba(xtest)[:, 1]\n",
    "fpr_dt, tpr_dt, thresh_dt = roc_curve(ytest, y_prob_dt)\n",
    "\n",
    "#Random Forest\n",
    "y_prob_rf = ranfor.predict_proba(xtest)[:, 1]\n",
    "fpr_rf, tpr_rf, thresh_rf = roc_curve(ytest, y_prob_rf)\n",
    "\n",
    "#plot\n",
    "plt.plot(fpr_dt, tpr_dt, label='Decision Tree', color='red')\n",
    "plt.plot(fpr_rf, tpr_rf, label='Random Forest', color='green')\n",
    "plt.title('ROC Curve')\n",
    "plt.xlabel('False positive rate')\n",
    "plt.ylabel('True positive rate')\n",
    "plt.xlim(0.0, 0.02)\n",
    "plt.ylim(0.0, 1)\n",
    "plt.legend()\n",
    "plt.show()"
   ]
  },
  {
   "cell_type": "markdown",
   "metadata": {},
   "source": [
    "The better classifier is the Random Forest."
   ]
  },
  {
   "cell_type": "markdown",
   "metadata": {},
   "source": [
    "## Classification of Random Forest for only: total mass, mass ratio and redshift"
   ]
  },
  {
   "cell_type": "code",
   "execution_count": 24,
   "metadata": {},
   "outputs": [],
   "source": [
    "#downsize the dataset\n",
    "M = int(1e5)\n",
    "X_1 = [] \n",
    "\n",
    "for i in ['mtot', 'q', 'z']:\n",
    "    X_1.append(data[i][:M])\n",
    "    \n",
    "X_1 = np.array(X_1).T\n",
    "det = det[:M]   \n",
    "det = np.array(det)\n",
    "\n",
    "xtrain_1, xtest_1, ytrain_1, ytest_1 = train_test_split(X_1, det, test_size=0.3, random_state=42)"
   ]
  },
  {
   "cell_type": "code",
   "execution_count": 25,
   "metadata": {},
   "outputs": [],
   "source": [
    "#definition of the K-Foldings\n",
    "kf = KFold(n_splits=5, shuffle=True, random_state=1)\n",
    "\n",
    "N = np.linspace(15, 30, 15, dtype=int)\n",
    "\n",
    "err_t_1 = []\n",
    "err_val_1 = []\n",
    "\n",
    "#Random Forest\n",
    "for i in N:\n",
    "    classif_1 = RandomForestClassifier(i)\n",
    "    error_train_1, error_validation_1 = errors_cv(xtrain_1, ytrain_1, classif_1)\n",
    "    \n",
    "    err_t_1.append(error_train_1)\n",
    "    err_val_1.append(error_validation_1)"
   ]
  },
  {
   "cell_type": "code",
   "execution_count": 26,
   "metadata": {},
   "outputs": [
    {
     "data": {
      "text/plain": [
       "[]"
      ]
     },
     "execution_count": 26,
     "metadata": {},
     "output_type": "execute_result"
    },
    {
     "data": {
      "image/png": "[encoded data removed]",
      "text/plain": [
       "<Figure size 576x576 with 1 Axes>"
      ]
     },
     "metadata": {
      "needs_background": "light"
     },
     "output_type": "display_data"
    }
   ],
   "source": [
    "#plot\n",
    "plt.plot(N, err_t_1, color='black', lw=1.2, label='Training Set')  \n",
    "plt.scatter(N, err_t_1, color='black')\n",
    "plt.plot(N, err_val_1, color='b', lw=1.2, label = 'Cross Validation')\n",
    "plt.scatter(N, err_val_1, color='b')\n",
    "plt.xlabel('Number of Trees')\n",
    "plt.ylabel('RMS error')\n",
    "plt.xticks(N)\n",
    "plt.legend()\n",
    "plt.plot()"
   ]
  },
  {
   "cell_type": "markdown",
   "metadata": {},
   "source": [
    "Now we want to find the best number of trees."
   ]
  },
  {
   "cell_type": "code",
   "execution_count": 30,
   "metadata": {},
   "outputs": [
    {
     "name": "stdout",
     "output_type": "stream",
     "text": [
      "The best number of trees is: 25\n"
     ]
    }
   ],
   "source": [
    "best_tree_1 = N[err_val_1 == min(err_val_1)][0]\n",
    "print('The best number of trees is:', best_tree_1)"
   ]
  },
  {
   "cell_type": "code",
   "execution_count": 31,
   "metadata": {},
   "outputs": [],
   "source": [
    "ranfor_1 = RandomForestClassifier(best_tree_1, random_state=10)\n",
    "ranfor_1.fit(xtrain_1, ytrain_1)\n",
    "\n",
    "xtrain_pred_1 = ranfor_1.predict(xtrain_1) \n",
    "xtest_pred_1 = ranfor_1.predict(xtest_1)"
   ]
  },
  {
   "cell_type": "code",
   "execution_count": 32,
   "metadata": {},
   "outputs": [
    {
     "name": "stdout",
     "output_type": "stream",
     "text": [
      "The accuracy of the training set is: 0.9991428571428571\n",
      "The accuracy of the test set is: 0.9477\n",
      "\n",
      "The confusion matrix of the training set is:\n",
      " [[59922    18]\n",
      " [   42 10018]]\n",
      "\n",
      "The confusion matrix of the test set is:\n",
      " [[25006   672]\n",
      " [  897  3425]]\n",
      "\n",
      "The completeness for the test is: 0.7924571957427117\n",
      "The contamination for the test is: 0.16402245545521113\n",
      "\n",
      "The completeness for the train is: 0.9958250497017893\n",
      "The contamination for the train is: 0.0017935432443204463\n"
     ]
    }
   ],
   "source": [
    "#accuracy\n",
    "accuracy_train_1 = accuracy_score(ytrain_1, xtrain_pred_1)\n",
    "accuracy_test_1 = accuracy_score(ytest_1, xtest_pred_1)\n",
    "\n",
    "print('The accuracy of the training set is:', accuracy_train_1)\n",
    "print('The accuracy of the test set is:', accuracy_test_1)\n",
    "\n",
    "#confusion matrix\n",
    "confusion_train_1 = confusion_matrix(ytrain_1, xtrain_pred_1)\n",
    "confusion_test_1 = confusion_matrix(ytest_1, xtest_pred_1)\n",
    "\n",
    "print('\\nThe confusion matrix of the training set is:\\n', confusion_train_1)\n",
    "print('\\nThe confusion matrix of the test set is:\\n', confusion_test_1)\n",
    "\n",
    "completeness_test_1, contamination_test_1 = completeness_contamination(xtest_pred_1, ytest_1)\n",
    "print('\\nThe completeness for the test is:', completeness_test_1)\n",
    "print('The contamination for the test is:', contamination_test_1)\n",
    "\n",
    "completeness_train_1, contamination_train_1 = completeness_contamination(xtrain_pred_1, ytrain_1)\n",
    "print('\\nThe completeness for the train is:', completeness_train_1)\n",
    "print('The contamination for the train is:', contamination_train_1)"
   ]
  },
  {
   "cell_type": "markdown",
   "metadata": {},
   "source": [
    "We compare the two results."
   ]
  },
  {
   "cell_type": "code",
   "execution_count": 46,
   "metadata": {},
   "outputs": [
    {
     "name": "stdout",
     "output_type": "stream",
     "text": [
      "+-----------------------------------+---------------+--------------+---------------+--------------+\n",
      "|            Classifiers            | AccuracyTrain | AccuracyTest | Complet_Train | Contam_Train |\n",
      "+-----------------------------------+---------------+--------------+---------------+--------------+\n",
      "|          Random Forest            |      1.0      |    0.964     |     0.999     |    0.099     |\n",
      "|         for all components        |               |              |               |              |\n",
      "|          Random Forest            |     0.999     |    0.948     |     0.996     |    0.164     |\n",
      "|  for total mass, mass ratio and z |               |              |               |              |\n",
      "+-----------------------------------+---------------+--------------+---------------+--------------+\n"
     ]
    }
   ],
   "source": [
    "classifiers = np.array(['Random Forest \\n for all components', 'Random Forest \\n for total mass, mass ratio and z'])\n",
    "\n",
    "\n",
    "#accuracy\n",
    "accuracy_train_tot = np.array([round(float(accuracy_train),3), round(float(accuracy_train_1),3)])\n",
    "accuracy_test_tot = np.array([round(float(accuracy_test),3), round(float(accuracy_test_1),3)])\n",
    "\n",
    "completeness_test_tot = np.array([round(float(completeness_test),3), round(float(completeness_test_1),3)])\n",
    "completeness_train_tot = np.array([round(float(completeness_train),3), round(float(completeness_train_1),3)])\n",
    "contamination_test_tot = np.array([round(float(contamination_test),3), round(float(contamination_test_1),3)])\n",
    "contamination_train_tot = np.array([round(float(contamination_train),3), round(float(contamination_train_1),3)])\n",
    "\n",
    "columns = ['Classifiers', 'AccuracyTrain', 'AccuracyTest', 'Complet_Train', 'Contam_Train']\n",
    "lines = np.array([classifiers, accuracy_train_tot, accuracy_test_tot, \n",
    "                  completeness_train_tot, contamination_test_tot]).T\n",
    "\n",
    "print(tabulate(lines, headers=columns, tablefmt='pretty'))"
   ]
  },
  {
   "cell_type": "markdown",
   "metadata": {},
   "source": [
    "We get almost the same results for both implementations."
   ]
  },
  {
   "cell_type": "code",
   "execution_count": null,
   "metadata": {},
   "outputs": [],
   "source": []
  }
 ],
 "metadata": {
  "kernelspec": {
   "display_name": "Python 3",
   "language": "python",
   "name": "python3"
  },
  "language_info": {
   "codemirror_mode": {
    "name": "ipython",
    "version": 3
   },
   "file_extension": ".py",
   "mimetype": "text/x-python",
   "name": "python",
   "nbconvert_exporter": "python",
   "pygments_lexer": "ipython3",
   "version": "3.7.6"
  }
 },
 "nbformat": 4,
 "nbformat_minor": 4
}
