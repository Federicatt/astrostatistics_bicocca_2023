{
 "cells": [
  {
   "cell_type": "code",
   "execution_count": 6,
   "id": "100557fe",
   "metadata": {},
   "outputs": [],
   "source": [
    "import numpy as np\n",
    "import pandas as pd\n",
    "from matplotlib import pyplot as plt\n",
    "%matplotlib inline\n",
    "\n",
    "import torch\n",
    "import tensorflow as tf"
   ]
  },
  {
   "cell_type": "code",
   "execution_count": 3,
   "id": "f98b23d7",
   "metadata": {},
   "outputs": [
    {
     "name": "stdout",
     "output_type": "stream",
     "text": [
      "              u         g         r         i         z   class        z1  \\\n",
      "0      18.97213  18.53676  18.58280  18.34936  18.29215     QSO  0.522819   \n",
      "1      19.24592  17.47646  16.47817  16.04472  15.68851  GALAXY  0.122846   \n",
      "2      19.43536  17.70268  16.91565  16.58327  16.39128  GALAXY  0.000000   \n",
      "3      19.31626  18.18312  17.39591  16.94549  16.65395  GALAXY  0.147435   \n",
      "4      19.28828  19.11188  18.88937  18.80013  18.49183     QSO  2.011455   \n",
      "...         ...       ...       ...       ...       ...     ...       ...   \n",
      "49995  19.37295  18.12382  17.39886  16.98503  16.70585  GALAXY  0.113016   \n",
      "49996  18.52021  16.88262  16.03280  15.56884  15.22454  GALAXY  0.085063   \n",
      "49997  18.62718  17.30876  16.87371  16.62399  16.42296  GALAXY  0.054429   \n",
      "49998  19.55140  18.27711  17.62101  17.21947  17.03347  GALAXY  0.112571   \n",
      "49999  18.80772  17.75751  17.40500  17.21650  17.12295  GALAXY  0.043652   \n",
      "\n",
      "           zerr  \n",
      "0      0.000155  \n",
      "1      0.000028  \n",
      "2      0.000000  \n",
      "3      0.000009  \n",
      "4      0.000631  \n",
      "...         ...  \n",
      "49995  0.000011  \n",
      "49996  0.000014  \n",
      "49997  0.000008  \n",
      "49998  0.000009  \n",
      "49999  0.000007  \n",
      "\n",
      "[50000 rows x 8 columns]\n",
      "[0 1 1 ... 1 1 1]\n"
     ]
    }
   ],
   "source": [
    "data = pd.read_csv('galaxyquasar.csv')\n",
    "print(data)\n",
    "data_arr = np.array(data)\n",
    "\n",
    "u = np.array(data_arr[:,0])\n",
    "g = np.array(data_arr[:, 1])\n",
    "r = np.array(data_arr[:, 2])\n",
    "i = np.array(data_arr[:, 3])\n",
    "z = np.array(data_arr[:, 4])\n",
    "c = np.array(data_arr[:, 5]) #array for column class\n",
    "\n",
    "#(u-g) color\n",
    "ug = np.array(u-g)\n",
    "#(g-r) color\n",
    "gr = np.array(g-r)\n",
    "#(r-i) color\n",
    "ri = np.array(r-i)\n",
    "#(i-z) color\n",
    "iz = np.array(i-z)\n",
    "\n",
    "\n",
    "labels = np.where(c ==\"QSO\", 0, 1)\n",
    "print(labels)"
   ]
  },
  {
   "cell_type": "code",
   "execution_count": null,
   "id": "88637802",
   "metadata": {},
   "outputs": [],
   "source": []
  }
 ],
 "metadata": {
  "kernelspec": {
   "display_name": "Python 3",
   "language": "python",
   "name": "python3"
  },
  "language_info": {
   "codemirror_mode": {
    "name": "ipython",
    "version": 3
   },
   "file_extension": ".py",
   "mimetype": "text/x-python",
   "name": "python",
   "nbconvert_exporter": "python",
   "pygments_lexer": "ipython3",
   "version": "3.7.6"
  }
 },
 "nbformat": 4,
 "nbformat_minor": 5
}
