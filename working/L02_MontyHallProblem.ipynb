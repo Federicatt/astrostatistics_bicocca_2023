{
 "cells": [
  {
   "cell_type": "markdown",
   "metadata": {},
   "source": [
    "# Monty Hall Problem"
   ]
  },
  {
   "cell_type": "markdown",
   "metadata": {},
   "source": [
    "Simulate three doors, one car, and two goats.\n",
    "\n",
    " - Simulate three players: the switcher, the conservative, and the newcomer. \n",
    " - Record who wins.\n",
    " - Repeat it many times.\n",
    " - Which player do you want to be?\n",
    " \n",
    " - What would happen if you had 100 doors to choose from and the presenter opens 98 or them?"
   ]
  },
  {
   "cell_type": "code",
   "execution_count": 1,
   "metadata": {},
   "outputs": [],
   "source": [
    "import numpy as np\n",
    "from numpy import random as rnd\n",
    "import matplotlib.pyplot as plt\n",
    "import pandas as pd\n",
    "\n",
    "plt.rcParams['figure.figsize'] = [8, 8]\n",
    "plt.rcParams['font.size'] = 15"
   ]
  },
  {
   "cell_type": "markdown",
   "metadata": {},
   "source": [
    "I simulated three doors, one car = 1 and two goats = 0. Then I simulated the three players: the switcher, the conservative and the newcomer and I recorded who wins."
   ]
  },
  {
   "cell_type": "code",
   "execution_count": 2,
   "metadata": {},
   "outputs": [],
   "source": [
    "#simulation of three doors (car = 1, goat = 0)\n",
    "doors = np.array([0,0,1])\n",
    "\n",
    "#switcher\n",
    "def switcher():\n",
    "    k = rnd.choice(doors) #doesn't change\n",
    "    if k==0:\n",
    "        s=1\n",
    "    elif k==1:\n",
    "        s=0\n",
    "    return s\n",
    "\n",
    "#keeper\n",
    "def keeper():\n",
    "    k = rnd.choice(doors) #doesn't change\n",
    "    #print(\"keeper\", k)\n",
    "    new_door = np.delete(doors, (doors==0).argmax())  \n",
    "    #print(\"doors that can be chosen by keeper\", new_door)\n",
    "    return k\n",
    "\n",
    "#newcomer\n",
    "def newcomer():\n",
    "    d = np.array([0,1]) #doors that the newcomer can choose\n",
    "    n = rnd.choice(d) #choice of the newcomer\n",
    "    return n"
   ]
  },
  {
   "cell_type": "markdown",
   "metadata": {},
   "source": [
    "Definition of the probability.\n",
    "I record who wins and repeat it many times."
   ]
  },
  {
   "cell_type": "code",
   "execution_count": 3,
   "metadata": {},
   "outputs": [],
   "source": [
    "#number of tries\n",
    "N = int(1e5)\n",
    "\n",
    "#I record who wins and repeat it many times\n",
    "events_k = np.array([keeper() for i in range(N)]).T #keeper\n",
    "p_k = np.sum(events_k)/N\n",
    "\n",
    "events_s = np.array([switcher() for i in range(N)]).T #switcher\n",
    "p_s = np.sum(events_s)/N\n",
    "\n",
    "events_n = np.array([newcomer() for i in range(N)]).T #newcomer\n",
    "p_n = np.sum(events_n)/N"
   ]
  },
  {
   "cell_type": "markdown",
   "metadata": {},
   "source": [
    "Showing the results in a plot."
   ]
  },
  {
   "cell_type": "code",
   "execution_count": 4,
   "metadata": {},
   "outputs": [
    {
     "data": {
      "image/png": "[encoded data removed]",
      "text/plain": [
       "<Figure size 576x576 with 1 Axes>"
      ]
     },
     "metadata": {
      "needs_background": "light"
     },
     "output_type": "display_data"
    },
    {
     "name": "stdout",
     "output_type": "stream",
     "text": [
      "The switcher wins: 66.6 %\n",
      "The keeper wins: 33.4 %\n",
      "The newcomer wins: 49.9 %\n"
     ]
    }
   ],
   "source": [
    "plt.bar(['switcher', 'keeper', 'newcomer'], [p_s, p_k, p_n], color='b')\n",
    "plt.show()\n",
    "\n",
    "print(\"The switcher wins:\", round(p_s*100, 1), \"%\")\n",
    "print(\"The keeper wins:\", round(p_k*100, 1), \"%\")\n",
    "print(\"The newcomer wins:\", round(p_n*100, 1), \"%\")"
   ]
  },
  {
   "cell_type": "markdown",
   "metadata": {},
   "source": [
    "Now I simulate 100 doors."
   ]
  },
  {
   "cell_type": "code",
   "execution_count": 5,
   "metadata": {},
   "outputs": [],
   "source": [
    "n_doors = 100\n",
    "\n",
    "k = 0\n",
    "s = 0\n",
    "n = 0\n",
    "\n",
    "#N is the number of tries N=int(1e5) defined before\n",
    "for i in range(N):\n",
    "    doors = np.zeros(n_doors-1, dtype=int)\n",
    "    doors = np.append(doors, 1)\n",
    "    rnd.shuffle(doors)\n",
    "    \n",
    "    #keeper\n",
    "    keeper = rnd.choice(doors)\n",
    "  \n",
    "    for i in range(n_doors-2):\n",
    "        new_door=np.delete(doors, (doors==0).argmax())\n",
    "        \n",
    "    #switcher\n",
    "    switcher = 0\n",
    "    if keeper == 0:\n",
    "        switcher = 1\n",
    "        s += 1 #add a win to the switcher\n",
    "    if keeper == 1:\n",
    "        k += 1 #add a win to the keeper\n",
    "    \n",
    "    #newcomer\n",
    "    newcomer = rnd.choice(new_door)\n",
    "    \n",
    "    if newcomer == 1:\n",
    "        n += 1 #add a win to the newcomer\n",
    "        "
   ]
  },
  {
   "cell_type": "code",
   "execution_count": 6,
   "metadata": {},
   "outputs": [
    {
     "name": "stdout",
     "output_type": "stream",
     "text": [
      "The switcher wins: 99.0 %\n",
      "The keeper wins: 1.0 %\n",
      "The newcomer wins: 1.0 %\n"
     ]
    }
   ],
   "source": [
    "print(\"The switcher wins:\", round((s/N)*100, 1), \"%\")\n",
    "print(\"The keeper wins:\", round((k/N)*100, 1), \"%\")\n",
    "print(\"The newcomer wins:\", round((n/N)*100, 1), \"%\")"
   ]
  },
  {
   "cell_type": "code",
   "execution_count": null,
   "metadata": {},
   "outputs": [],
   "source": []
  },
  {
   "cell_type": "code",
   "execution_count": null,
   "metadata": {},
   "outputs": [],
   "source": []
  }
 ],
 "metadata": {
  "kernelspec": {
   "display_name": "Python 3",
   "language": "python",
   "name": "python3"
  },
  "language_info": {
   "codemirror_mode": {
    "name": "ipython",
    "version": 3
   },
   "file_extension": ".py",
   "mimetype": "text/x-python",
   "name": "python",
   "nbconvert_exporter": "python",
   "pygments_lexer": "ipython3",
   "version": "3.7.6"
  }
 },
 "nbformat": 4,
 "nbformat_minor": 4
}
